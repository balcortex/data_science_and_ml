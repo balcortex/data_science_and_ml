{
 "cells": [
  {
   "cell_type": "code",
   "execution_count": 11,
   "metadata": {},
   "outputs": [],
   "source": [
    "import numpy as np\n",
    "import pandas as pd\n",
    "\n",
    "import seaborn as sns\n",
    "\n",
    "from sklearn.cluster import KMeans\n",
    "from sklearn.metrics import silhouette_score\n",
    "from sklearn.preprocessing import StandardScaler\n",
    "\n",
    "from sklearn.datasets import make_blobs"
   ]
  },
  {
   "cell_type": "code",
   "execution_count": 2,
   "metadata": {},
   "outputs": [],
   "source": [
    "# Create a random number generator\n",
    "rng = np.random.default_rng(seed=42)\n",
    "\n",
    "# Create synthetic data with 'unknown' number of clusters\n",
    "centers = rng.integers(low=3, high=7)\n",
    "x, y, z = make_blobs(\n",
    "    n_samples=1000, n_features=6, centers=centers, return_centers=True, random_state=42\n",
    ")"
   ]
  },
  {
   "cell_type": "code",
   "execution_count": 6,
   "metadata": {},
   "outputs": [
    {
     "data": {
      "text/html": [
       "<div>\n",
       "<style scoped>\n",
       "    .dataframe tbody tr th:only-of-type {\n",
       "        vertical-align: middle;\n",
       "    }\n",
       "\n",
       "    .dataframe tbody tr th {\n",
       "        vertical-align: top;\n",
       "    }\n",
       "\n",
       "    .dataframe thead th {\n",
       "        text-align: right;\n",
       "    }\n",
       "</style>\n",
       "<table border=\"1\" class=\"dataframe\">\n",
       "  <thead>\n",
       "    <tr style=\"text-align: right;\">\n",
       "      <th></th>\n",
       "      <th>0</th>\n",
       "      <th>1</th>\n",
       "      <th>2</th>\n",
       "      <th>3</th>\n",
       "      <th>4</th>\n",
       "      <th>5</th>\n",
       "    </tr>\n",
       "  </thead>\n",
       "  <tbody>\n",
       "    <tr>\n",
       "      <th>0</th>\n",
       "      <td>6.597330</td>\n",
       "      <td>-5.250127</td>\n",
       "      <td>-6.682249</td>\n",
       "      <td>-7.361722</td>\n",
       "      <td>-4.038499</td>\n",
       "      <td>0.804176</td>\n",
       "    </tr>\n",
       "    <tr>\n",
       "      <th>1</th>\n",
       "      <td>-9.754520</td>\n",
       "      <td>6.491701</td>\n",
       "      <td>1.955122</td>\n",
       "      <td>3.445692</td>\n",
       "      <td>-8.906258</td>\n",
       "      <td>10.885443</td>\n",
       "    </tr>\n",
       "    <tr>\n",
       "      <th>2</th>\n",
       "      <td>-0.876786</td>\n",
       "      <td>7.584145</td>\n",
       "      <td>4.199834</td>\n",
       "      <td>2.103910</td>\n",
       "      <td>-5.438354</td>\n",
       "      <td>-8.315972</td>\n",
       "    </tr>\n",
       "    <tr>\n",
       "      <th>3</th>\n",
       "      <td>-10.205186</td>\n",
       "      <td>7.916090</td>\n",
       "      <td>-0.682091</td>\n",
       "      <td>3.531567</td>\n",
       "      <td>-10.076584</td>\n",
       "      <td>10.031524</td>\n",
       "    </tr>\n",
       "    <tr>\n",
       "      <th>4</th>\n",
       "      <td>-1.967735</td>\n",
       "      <td>9.773441</td>\n",
       "      <td>4.063368</td>\n",
       "      <td>-0.617873</td>\n",
       "      <td>-7.425872</td>\n",
       "      <td>-6.488306</td>\n",
       "    </tr>\n",
       "  </tbody>\n",
       "</table>\n",
       "</div>"
      ],
      "text/plain": [
       "           0         1         2         3          4          5\n",
       "0   6.597330 -5.250127 -6.682249 -7.361722  -4.038499   0.804176\n",
       "1  -9.754520  6.491701  1.955122  3.445692  -8.906258  10.885443\n",
       "2  -0.876786  7.584145  4.199834  2.103910  -5.438354  -8.315972\n",
       "3 -10.205186  7.916090 -0.682091  3.531567 -10.076584  10.031524\n",
       "4  -1.967735  9.773441  4.063368 -0.617873  -7.425872  -6.488306"
      ]
     },
     "execution_count": 6,
     "metadata": {},
     "output_type": "execute_result"
    }
   ],
   "source": [
    "# Create a pandas dataframe\n",
    "x = pd.DataFrame(x)\n",
    "x.head()"
   ]
  },
  {
   "cell_type": "code",
   "execution_count": 9,
   "metadata": {},
   "outputs": [
    {
     "data": {
      "text/html": [
       "<div>\n",
       "<style scoped>\n",
       "    .dataframe tbody tr th:only-of-type {\n",
       "        vertical-align: middle;\n",
       "    }\n",
       "\n",
       "    .dataframe tbody tr th {\n",
       "        vertical-align: top;\n",
       "    }\n",
       "\n",
       "    .dataframe thead th {\n",
       "        text-align: right;\n",
       "    }\n",
       "</style>\n",
       "<table border=\"1\" class=\"dataframe\">\n",
       "  <thead>\n",
       "    <tr style=\"text-align: right;\">\n",
       "      <th></th>\n",
       "      <th>0</th>\n",
       "      <th>1</th>\n",
       "      <th>2</th>\n",
       "      <th>3</th>\n",
       "      <th>4</th>\n",
       "      <th>5</th>\n",
       "    </tr>\n",
       "  </thead>\n",
       "  <tbody>\n",
       "    <tr>\n",
       "      <th>0</th>\n",
       "      <td>1.263180</td>\n",
       "      <td>-1.305187</td>\n",
       "      <td>-1.400255</td>\n",
       "      <td>-1.561534</td>\n",
       "      <td>1.109792</td>\n",
       "      <td>-0.026596</td>\n",
       "    </tr>\n",
       "    <tr>\n",
       "      <th>1</th>\n",
       "      <td>-1.270689</td>\n",
       "      <td>0.446790</td>\n",
       "      <td>0.394165</td>\n",
       "      <td>0.735048</td>\n",
       "      <td>-0.857313</td>\n",
       "      <td>1.471237</td>\n",
       "    </tr>\n",
       "    <tr>\n",
       "      <th>2</th>\n",
       "      <td>0.104997</td>\n",
       "      <td>0.609791</td>\n",
       "      <td>0.860506</td>\n",
       "      <td>0.449918</td>\n",
       "      <td>0.544098</td>\n",
       "      <td>-1.381630</td>\n",
       "    </tr>\n",
       "    <tr>\n",
       "      <th>3</th>\n",
       "      <td>-1.340524</td>\n",
       "      <td>0.659320</td>\n",
       "      <td>-0.153718</td>\n",
       "      <td>0.753296</td>\n",
       "      <td>-1.330253</td>\n",
       "      <td>1.344365</td>\n",
       "    </tr>\n",
       "    <tr>\n",
       "      <th>4</th>\n",
       "      <td>-0.064055</td>\n",
       "      <td>0.936452</td>\n",
       "      <td>0.832155</td>\n",
       "      <td>-0.128462</td>\n",
       "      <td>-0.259076</td>\n",
       "      <td>-1.110083</td>\n",
       "    </tr>\n",
       "  </tbody>\n",
       "</table>\n",
       "</div>"
      ],
      "text/plain": [
       "          0         1         2         3         4         5\n",
       "0  1.263180 -1.305187 -1.400255 -1.561534  1.109792 -0.026596\n",
       "1 -1.270689  0.446790  0.394165  0.735048 -0.857313  1.471237\n",
       "2  0.104997  0.609791  0.860506  0.449918  0.544098 -1.381630\n",
       "3 -1.340524  0.659320 -0.153718  0.753296 -1.330253  1.344365\n",
       "4 -0.064055  0.936452  0.832155 -0.128462 -0.259076 -1.110083"
      ]
     },
     "execution_count": 9,
     "metadata": {},
     "output_type": "execute_result"
    }
   ],
   "source": [
    "# Scale the data\n",
    "x_scaled = pd.DataFrame(StandardScaler().fit_transform(x))\n",
    "x_scaled.head()"
   ]
  },
  {
   "cell_type": "code",
   "execution_count": 10,
   "metadata": {},
   "outputs": [],
   "source": [
    "num_clusters = [i for i in range(2, 11)]\n",
    "\n",
    "\n",
    "def kmeans_inertia(num_clusters, x_vals):\n",
    "    \"\"\"\n",
    "    Fits a KMeans model for each value in num_clusters.\n",
    "    Returns a list containing the inertia of each model.\n",
    "    \"\"\"\n",
    "    inertia = []\n",
    "    for n in num_clusters:\n",
    "        model = KMeans(n_clusters=n, random_state=42, n_init=\"auto\")\n",
    "        model.fit(x_vals)\n",
    "        inertia.append(model.inertia_)\n",
    "\n",
    "    return inertia"
   ]
  },
  {
   "cell_type": "code",
   "execution_count": 13,
   "metadata": {},
   "outputs": [
    {
     "data": {
      "text/plain": [
       "Text(0, 0.5, 'Inertia')"
      ]
     },
     "execution_count": 13,
     "metadata": {},
     "output_type": "execute_result"
    },
    {
     "data": {
      "image/png": "[encoded data removed]",
      "text/plain": [
       "<Figure size 640x480 with 1 Axes>"
      ]
     },
     "metadata": {},
     "output_type": "display_data"
    }
   ],
   "source": [
    "inertia = kmeans_inertia(num_clusters, x_scaled)\n",
    "plot = sns.lineplot(x=num_clusters, y=inertia)\n",
    "plot.set_xlabel(\"Number of clusters\")\n",
    "plot.set_ylabel(\"Inertia\")"
   ]
  },
  {
   "cell_type": "code",
   "execution_count": null,
   "metadata": {},
   "outputs": [],
   "source": [
    "# A three-cluster model seems optimal"
   ]
  },
  {
   "cell_type": "code",
   "execution_count": 15,
   "metadata": {},
   "outputs": [],
   "source": [
    "num_clusters = [i for i in range(2, 11)]\n",
    "\n",
    "\n",
    "def kmeans_sil(num_clusters, x_vals):\n",
    "    \"\"\"\n",
    "    Fits a KMeans model for each value in num_clusters.\n",
    "    Returns a list containing the silhoutte score of each model.\n",
    "    \"\"\"\n",
    "    silhoutte = []\n",
    "    for n in num_clusters:\n",
    "        model = KMeans(n_clusters=n, random_state=42, n_init=\"auto\")\n",
    "        model.fit(x_vals)\n",
    "        silhoutte.append(silhouette_score(x_vals, model.labels_))\n",
    "\n",
    "    return silhoutte"
   ]
  },
  {
   "cell_type": "code",
   "execution_count": 16,
   "metadata": {},
   "outputs": [
    {
     "data": {
      "text/plain": [
       "Text(0, 0.5, 'Silhoutte score')"
      ]
     },
     "execution_count": 16,
     "metadata": {},
     "output_type": "execute_result"
    },
    {
     "data": {
      "image/png": "[encoded data removed]",
      "text/plain": [
       "<Figure size 640x480 with 1 Axes>"
      ]
     },
     "metadata": {},
     "output_type": "display_data"
    }
   ],
   "source": [
    "sil = kmeans_sil(num_clusters, x_scaled)\n",
    "plot = sns.lineplot(x=num_clusters, y=sil)\n",
    "plot.set_xlabel(\"Number of clusters\")\n",
    "plot.set_ylabel(\"Silhoutte score\")"
   ]
  },
  {
   "cell_type": "code",
   "execution_count": 18,
   "metadata": {},
   "outputs": [
    {
     "name": "stdout",
     "output_type": "stream",
     "text": [
      "3\n"
     ]
    }
   ],
   "source": [
    "# A model with 3 cluster indeed is the optimal model\n",
    "print(centers)"
   ]
  },
  {
   "cell_type": "code",
   "execution_count": 19,
   "metadata": {},
   "outputs": [
    {
     "data": {
      "text/html": [
       "<div>\n",
       "<style scoped>\n",
       "    .dataframe tbody tr th:only-of-type {\n",
       "        vertical-align: middle;\n",
       "    }\n",
       "\n",
       "    .dataframe tbody tr th {\n",
       "        vertical-align: top;\n",
       "    }\n",
       "\n",
       "    .dataframe thead th {\n",
       "        text-align: right;\n",
       "    }\n",
       "</style>\n",
       "<table border=\"1\" class=\"dataframe\">\n",
       "  <thead>\n",
       "    <tr style=\"text-align: right;\">\n",
       "      <th></th>\n",
       "      <th>0</th>\n",
       "      <th>1</th>\n",
       "      <th>2</th>\n",
       "      <th>3</th>\n",
       "      <th>4</th>\n",
       "      <th>5</th>\n",
       "      <th>cluster</th>\n",
       "    </tr>\n",
       "  </thead>\n",
       "  <tbody>\n",
       "    <tr>\n",
       "      <th>0</th>\n",
       "      <td>6.597330</td>\n",
       "      <td>-5.250127</td>\n",
       "      <td>-6.682249</td>\n",
       "      <td>-7.361722</td>\n",
       "      <td>-4.038499</td>\n",
       "      <td>0.804176</td>\n",
       "      <td>0</td>\n",
       "    </tr>\n",
       "    <tr>\n",
       "      <th>1</th>\n",
       "      <td>-9.754520</td>\n",
       "      <td>6.491701</td>\n",
       "      <td>1.955122</td>\n",
       "      <td>3.445692</td>\n",
       "      <td>-8.906258</td>\n",
       "      <td>10.885443</td>\n",
       "      <td>1</td>\n",
       "    </tr>\n",
       "    <tr>\n",
       "      <th>2</th>\n",
       "      <td>-0.876786</td>\n",
       "      <td>7.584145</td>\n",
       "      <td>4.199834</td>\n",
       "      <td>2.103910</td>\n",
       "      <td>-5.438354</td>\n",
       "      <td>-8.315972</td>\n",
       "      <td>2</td>\n",
       "    </tr>\n",
       "    <tr>\n",
       "      <th>3</th>\n",
       "      <td>-10.205186</td>\n",
       "      <td>7.916090</td>\n",
       "      <td>-0.682091</td>\n",
       "      <td>3.531567</td>\n",
       "      <td>-10.076584</td>\n",
       "      <td>10.031524</td>\n",
       "      <td>1</td>\n",
       "    </tr>\n",
       "    <tr>\n",
       "      <th>4</th>\n",
       "      <td>-1.967735</td>\n",
       "      <td>9.773441</td>\n",
       "      <td>4.063368</td>\n",
       "      <td>-0.617873</td>\n",
       "      <td>-7.425872</td>\n",
       "      <td>-6.488306</td>\n",
       "      <td>2</td>\n",
       "    </tr>\n",
       "  </tbody>\n",
       "</table>\n",
       "</div>"
      ],
      "text/plain": [
       "           0         1         2         3          4          5  cluster\n",
       "0   6.597330 -5.250127 -6.682249 -7.361722  -4.038499   0.804176        0\n",
       "1  -9.754520  6.491701  1.955122  3.445692  -8.906258  10.885443        1\n",
       "2  -0.876786  7.584145  4.199834  2.103910  -5.438354  -8.315972        2\n",
       "3 -10.205186  7.916090 -0.682091  3.531567 -10.076584  10.031524        1\n",
       "4  -1.967735  9.773441  4.063368 -0.617873  -7.425872  -6.488306        2"
      ]
     },
     "execution_count": 19,
     "metadata": {},
     "output_type": "execute_result"
    }
   ],
   "source": [
    "# Create a new column that indicates the cluster in the unscaled dataframe\n",
    "model = KMeans(n_clusters=3, random_state=42, n_init=\"auto\")\n",
    "model.fit(x_scaled)\n",
    "x[\"cluster\"] = model.labels_\n",
    "x.head()"
   ]
  },
  {
   "cell_type": "code",
   "execution_count": null,
   "metadata": {},
   "outputs": [],
   "source": []
  }
 ],
 "metadata": {
  "kernelspec": {
   "display_name": "pytorch-2.0",
   "language": "python",
   "name": "python3"
  },
  "language_info": {
   "codemirror_mode": {
    "name": "ipython",
    "version": 3
   },
   "file_extension": ".py",
   "mimetype": "text/x-python",
   "name": "python",
   "nbconvert_exporter": "python",
   "pygments_lexer": "ipython3",
   "version": "3.11.1"
  },
  "orig_nbformat": 4
 },
 "nbformat": 4,
 "nbformat_minor": 2
}
